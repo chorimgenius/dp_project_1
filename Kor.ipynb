{
 "cells": [
  {
   "cell_type": "code",
   "execution_count": 1,
   "metadata": {},
   "outputs": [
    {
     "name": "stdout",
     "output_type": "stream",
     "text": [
      "--2023-07-25 02:23:52--  https://storage.googleapis.com/bert_models/2018_11_23/multi_cased_L-12_H-768_A-12.zip\n",
      "Resolving storage.googleapis.com (storage.googleapis.com)... 34.64.4.48, 34.64.4.112, 34.64.4.16, ...\n",
      "Connecting to storage.googleapis.com (storage.googleapis.com)|34.64.4.48|:443... connected.\n",
      "HTTP request sent, awaiting response... 200 OK\n",
      "Length: 662903077 (632M) [application/zip]\n",
      "Saving to: ‘multi_cased_L-12_H-768_A-12.zip’\n",
      "\n",
      "multi_cased_L-12_H- 100%[===================>] 632.19M  29.6MB/s    in 22s     \n",
      "\n",
      "2023-07-25 02:24:14 (29.3 MB/s) - ‘multi_cased_L-12_H-768_A-12.zip’ saved [662903077/662903077]\n",
      "\n"
     ]
    }
   ],
   "source": [
    "# !wget https://storage.googleapis.com/bert_models/2018_11_23/multi_cased_L-12_H-768_A-12.zip"
   ]
  },
  {
   "cell_type": "code",
   "execution_count": 2,
   "metadata": {},
   "outputs": [],
   "source": [
    "# import os\n",
    "\n",
    "# # 'bert'라는 이름의 디렉토리 만들기\n",
    "# if \"bert\" not in os.listdir():\n",
    "#     os.makedirs(\"bert\")\n",
    "# else:\n",
    "#     pass\n",
    "\n",
    "# import zipfile\n",
    "# import shutil\n",
    "\n",
    "# # 만들어 둔 'bert' 디렉토리에 zip파일 압축해제\n",
    "# bert_zip = zipfile.ZipFile('multi_cased_L-12_H-768_A-12.zip')\n",
    "# bert_zip.extractall('bert')\n",
    "\n",
    "# # zip파일 닫기\n",
    "# bert_zip.close()"
   ]
  },
  {
   "cell_type": "code",
   "execution_count": null,
   "metadata": {},
   "outputs": [],
   "source": [
    "!wget https://github.com/monologg/KoBERT-KorQuAD/blob/60898d3c0ed8fc724109cbe18855f9a48824216f/data/KorQuAD_v1.0_dev.json\n",
    "!wget https://github.com/monologg/KoBERT-KorQuAD/blob/60898d3c0ed8fc724109cbe18855f9a48824216f/data/KorQuAD_v1.0_train.json"
   ]
  }
 ],
 "metadata": {
  "kernelspec": {
   "display_name": "Python 3",
   "language": "python",
   "name": "python3"
  },
  "language_info": {
   "codemirror_mode": {
    "name": "ipython",
    "version": 3
   },
   "file_extension": ".py",
   "mimetype": "text/x-python",
   "name": "python",
   "nbconvert_exporter": "python",
   "pygments_lexer": "ipython3",
   "version": "3.6.9"
  }
 },
 "nbformat": 4,
 "nbformat_minor": 4
}
